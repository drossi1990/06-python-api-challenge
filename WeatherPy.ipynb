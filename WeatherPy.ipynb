{
 "cells": [
  {
   "cell_type": "code",
   "execution_count": 7,
   "metadata": {},
   "outputs": [],
   "source": [
    "#Weather API HW\n",
    "\n",
    "# calling dependencies\n",
    "import matplotlib.pyplot as plt\n",
    "import pandas as pd\n",
    "import numpy as np\n",
    "import requests\n",
    "import time\n",
    "from citipy import citipy\n",
    "\n",
    "# API key setup\n",
    "api_key =  'a15fd3c1316b096c87f337fb54a7194b'\n",
    "temp_units = \"imperial\"\n",
    "output = \"Output/weather_df.csv\"\n",
    "\n",
    "# establishing geographic range for query\n",
    "lat_range = (-90, 90)\n",
    "lng_range = (-180, 180)\n",
    "\n",
    "# calling weatherpy url\n",
    "query_url = f\"http://api.openweathermap.org/data/2.5/weather?appid={api_key}&units={temp_units}&q=\"\n",
    "\n",
    "# passthroughs\n",
    "Count = 0\n",
    "Set = 1"
   ]
  },
  {
   "cell_type": "code",
   "execution_count": null,
   "metadata": {},
   "outputs": [],
   "source": [
    "#citypy test script\n"
   ]
  },
  {
   "cell_type": "code",
   "execution_count": null,
   "metadata": {},
   "outputs": [],
   "source": [
    "#create series of scatterplots to showcase the following\n",
    "#Temperature (F) vs. Latitude\n",
    "#Humidity (%) vs. Latitude\n",
    "#Windspeed (mph) vs. Latitude"
   ]
  },
  {
   "cell_type": "code",
   "execution_count": null,
   "metadata": {},
   "outputs": [],
   "source": [
    "#run linear regression on relationship\n",
    "#Northern Hemisphere - Temperature (F) vs. Latitude\n",
    "#Southern Hemisphere - Temperature (F) vs. Latitude\n",
    "#Northern Hemisphere - Humidity (%) vs. Latitude\n",
    "#Southern Hemisphere - Humidity (%) vs. Latitude\n",
    "#Northern Hemisphere - Cloudiness (%) vs. Latitude\n",
    "#Southern Hemisphere - Cloudiness (%) vs. Latitude\n",
    "#Northern Hemisphere - Wind Speed (mph) vs. Latitude\n",
    "#Southern Hemisphere - Wind Speed (mph) vs. Latitude\n",
    "\n"
   ]
  },
  {
   "cell_type": "code",
   "execution_count": null,
   "metadata": {},
   "outputs": [],
   "source": []
  }
 ],
 "metadata": {
  "kernelspec": {
   "display_name": "Python 3",
   "language": "python",
   "name": "python3"
  },
  "language_info": {
   "codemirror_mode": {
    "name": "ipython",
    "version": 3
   },
   "file_extension": ".py",
   "mimetype": "text/x-python",
   "name": "python",
   "nbconvert_exporter": "python",
   "pygments_lexer": "ipython3",
   "version": "3.8.3"
  }
 },
 "nbformat": 4,
 "nbformat_minor": 4
}
