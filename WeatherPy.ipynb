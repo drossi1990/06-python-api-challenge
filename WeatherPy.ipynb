{
 "cells": [
  {
   "cell_type": "code",
   "execution_count": 60,
   "metadata": {},
   "outputs": [],
   "source": [
    "#Weather API HW\n",
    "\n",
    "# calling dependencies\n",
    "import matplotlib.pyplot as plt\n",
    "import pandas as pd\n",
    "import numpy as np\n",
    "import requests\n",
    "import time\n",
    "from citipy import citipy\n",
    "\n",
    "# API key setup\n",
    "api_key =  'a15fd3c1316b096c87f337fb54a7194b'\n",
    "temp_units = \"imperial\"\n",
    "output = \"Output/weather_df.csv\"\n",
    "\n",
    "# establishing geographic range for query\n",
    "lat_range = (-90, 90)\n",
    "long_range = (-180, 180)\n",
    "\n",
    "\n",
    "# calling weatherpy url\n",
    "query_url = f\"http://api.openweathermap.org/data/2.5/weather?appid={api_key}&units={temp_units}&q=\"\n",
    "\n",
    "# passthroughs\n",
    "Count = 0\n",
    "Set = 1"
   ]
  },
  {
   "cell_type": "code",
   "execution_count": 72,
   "metadata": {},
   "outputs": [
    {
     "data": {
      "text/plain": [
       "855"
      ]
     },
     "execution_count": 72,
     "metadata": {},
     "output_type": "execute_result"
    }
   ],
   "source": [
    "#generating city data\n",
    "randomwalk_lat = np.random.uniform(low=lat_range[0], high=lat_range[1], size=2000)\n",
    "randomwalk_long =  np.random.uniform(low=lat_range[0], high=long_range[1], size=2000)\n",
    "lats_and_longs = zip(randomwalk_lat, randomwalk_long)\n",
    "cities = []\n",
    "\n",
    "#creating variables assigned randomly generated values based on max lat and long range lists        \n",
    "\n",
    "\n",
    "#loops through list of random coordinates to create an evenly geographically distributed list of global cities\n",
    "for lat_and_long in lats_and_longs:\n",
    "    #assign random city by calling on variables created by numpy's random function\n",
    "    city = citipy.nearest_city(lat_and_long[0], lat_and_long[1]).city_name\n",
    "    #ensure city isn't already part of the list\n",
    "    if city not in cities:\n",
    "        cities.append(city)\n",
    "        \n",
    "len(cities)\n",
    "\n",
    "\n"
   ]
  },
  {
   "cell_type": "code",
   "execution_count": null,
   "metadata": {},
   "outputs": [],
   "source": [
    "#create series of scatterplots to showcase the following\n",
    "#Temperature (F) vs. Latitude\n",
    "#Humidity (%) vs. Latitude\n",
    "#Windspeed (mph) vs. Latitude"
   ]
  },
  {
   "cell_type": "code",
   "execution_count": null,
   "metadata": {},
   "outputs": [],
   "source": [
    "#run linear regression on relationship\n",
    "#Northern Hemisphere - Temperature (F) vs. Latitude\n",
    "#Southern Hemisphere - Temperature (F) vs. Latitude\n",
    "#Northern Hemisphere - Humidity (%) vs. Latitude\n",
    "#Southern Hemisphere - Humidity (%) vs. Latitude\n",
    "#Northern Hemisphere - Cloudiness (%) vs. Latitude\n",
    "#Southern Hemisphere - Cloudiness (%) vs. Latitude\n",
    "#Northern Hemisphere - Wind Speed (mph) vs. Latitude\n",
    "#Southern Hemisphere - Wind Speed (mph) vs. Latitude\n"
   ]
  },
  {
   "cell_type": "code",
   "execution_count": null,
   "metadata": {},
   "outputs": [],
   "source": []
  }
 ],
 "metadata": {
  "kernelspec": {
   "display_name": "Python 3",
   "language": "python",
   "name": "python3"
  },
  "language_info": {
   "codemirror_mode": {
    "name": "ipython",
    "version": 3
   },
   "file_extension": ".py",
   "mimetype": "text/x-python",
   "name": "python",
   "nbconvert_exporter": "python",
   "pygments_lexer": "ipython3",
   "version": "3.8.3"
  }
 },
 "nbformat": 4,
 "nbformat_minor": 4
}
